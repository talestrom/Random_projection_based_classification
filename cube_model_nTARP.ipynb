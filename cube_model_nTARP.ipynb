{
  "cells": [
    {
      "cell_type": "markdown",
      "metadata": {
        "id": "LzykmjtwiSr8"
      },
      "source": [
        "Test classification on multiple settings of the stretched cube model and compare the results for n-TARP, logit and SVM."
      ]
    },
    {
      "cell_type": "code",
      "execution_count": 1,
      "metadata": {
        "id": "IyLgJfUhhmkv"
      },
      "outputs": [],
      "source": [
        "import numpy as np\n",
        "from scipy.special import comb\n",
        "import scipy.special as sc\n",
        "from scipy.stats import beta\n",
        "import matplotlib.pyplot as plt\n",
        "import random\n",
        "from sklearn.cluster import KMeans\n",
        "from sklearn import svm\n",
        "from sklearn.linear_model import LogisticRegression\n",
        "from scipy.stats import norm\n",
        "import math\n",
        "import skimage\n",
        "from sklearn import linear_model\n",
        "from sklearn.metrics import mean_squared_error\n",
        "from sklearn.preprocessing import PolynomialFeatures\n",
        "from scipy.stats import bernoulli, binom\n",
        "from sklearn.utils import shuffle\n",
        "from scipy.stats import multivariate_normal\n",
        "from sklearn.svm import LinearSVC\n",
        "from sklearn import preprocessing"
      ]
    },
    {
      "cell_type": "markdown",
      "metadata": {
        "id": "ru5aSQzZUrVY"
      },
      "source": [
        "Function that classifies datasets using n-TARP method based on r random projections:"
      ]
    },
    {
      "cell_type": "code",
      "execution_count": 2,
      "metadata": {
        "id": "_VPxW6Z0iQ_L"
      },
      "outputs": [],
      "source": [
        "def nTARP_class_fit(X, Y, r):\n",
        "  (m,n) = X.shape; #n is the dimension of points to separate into clusters, m is the number of points\n",
        "  W = np.zeros(r); #vector of classification errors for r different random projections\n",
        "  v = np.zeros((r,n))\n",
        "  for i in range(r):\n",
        "    for j in range(n):\n",
        "      v[i,j] = np.random.normal(0,1) #populate v with random normal independent variables, without normalization to the unit hypersphere\n",
        "  # Try random projection r times, find the optimal random vector and threshold\n",
        "  rpvec = np.zeros(n)\n",
        "  min_error = 1\n",
        "  I=r+1\n",
        "  idx_opt = np.zeros(m)\n",
        "  P_min = np.zeros(m)\n",
        "  for i in range(r):\n",
        "    V = np.tile(v[i,:],(m,1)) #choosing the i-th random vector, replicating it m times\n",
        "    P = np.sum((X*V),1) #projecting each point onto the i-th random vector\n",
        "    clf = LogisticRegression(random_state=0).fit(P.reshape(-1,1), Y) #fitting logistic regression to the one-dim points\n",
        "    W[i] = 1-clf.score(P.reshape(-1,1), Y) #error of regression\n",
        "    if W[i]<min_error:\n",
        "      min_error = W[i] #finding minimal error\n",
        "      rpvec = v[i,:] #finding vector that gives the smallest error\n",
        "      coef = clf.coef_[0,0]\n",
        "      intercept = clf.intercept_[0]\n",
        "      #thresh = -intercept/coef\n",
        "\n",
        "  return min_error,rpvec,coef,intercept"
      ]
    },
    {
      "cell_type": "markdown",
      "metadata": {
        "id": "JKJED1NcU8lG"
      },
      "source": [
        "Function that predicts a class for a new point based on the n-TARP classification:"
      ]
    },
    {
      "cell_type": "code",
      "execution_count": 3,
      "metadata": {
        "id": "PMaGaZvris_V"
      },
      "outputs": [],
      "source": [
        "def nTARP_class_predict(X, rpvec, coef, intercept):\n",
        "  (m,n) = X.shape; #n is the dimension of points to separate into clusters, m is the number of points\n",
        "  Y = np.zeros(m) #prepare the vector that holds predicted classes\n",
        "  for i in range(m):\n",
        "    if coef*np.dot(X[i],rpvec)+intercept>0:\n",
        "      Y[i]=1\n",
        "  return Y"
      ]
    },
    {
      "cell_type": "markdown",
      "metadata": {
        "id": "KqHfnrU-VEm9"
      },
      "source": [
        "Function that generated data based on the \"stretched cube model\" (described in Section 4.1)"
      ]
    },
    {
      "cell_type": "code",
      "execution_count": 4,
      "metadata": {
        "id": "YwYfrgr1i02g"
      },
      "outputs": [],
      "source": [
        "def stretched_cube_model(d, sigma, p0, p1, s0, s1, r):\n",
        "  #d is the dimension of data, sigma - standard deviation of noise, p0, p1 vector of parameters of Bernoulli for both classes (length d),\n",
        "  #s0,s1 number ofsamples generated for each class, r is the stretching , 1<r<2 for no clusters in the original dimension. If r=1 we get a cube model (as a special case).\n",
        "  X = np.zeros((s0+s1,d))\n",
        "  Y = np.zeros(s0+s1)\n",
        "  for i in range(s0):\n",
        "    for j in range(d):\n",
        "      if j==0:\n",
        "        X[i,j] = bernoulli.rvs(p0[j]) + np.random.normal(0,sigma)\n",
        "      if j>0:\n",
        "        X[i,j] = np.sqrt(r**(j-1))*bernoulli.rvs(p0[j]) + np.random.normal(0,sigma)\n",
        "      Y[i]=0\n",
        "  for i in range(s0,s0+s1):\n",
        "    for j in range(d):\n",
        "      if j==0:\n",
        "        X[i,j] = bernoulli.rvs(p1[j]) + np.random.normal(0,sigma)\n",
        "      if j>0:\n",
        "        X[i,j] = np.sqrt(r**(j-1))*bernoulli.rvs(p1[j]) + np.random.normal(0,sigma)\n",
        "      Y[i]=1\n",
        "  return X,Y"
      ]
    },
    {
      "cell_type": "markdown",
      "metadata": {
        "id": "_Frw62HEV24k"
      },
      "source": [
        "Gererate data using stretched_cube_model(d, sigma, p0, p1, s0, s1, r)"
      ]
    },
    {
      "cell_type": "code",
      "execution_count": 5,
      "metadata": {
        "id": "VR1ATYxBi46e"
      },
      "outputs": [],
      "source": [
        "d = 6\n",
        "sigma = 0\n",
        "s0 = 10\n",
        "s1 = 5\n",
        "r = float(1) # need to add float here, otherwise can not take square root\n",
        "#print(type(r))\n",
        "p0 = np.ones(d)\n",
        "p1 =np.ones(d)\n",
        "for i in range(d-int(d/2)):\n",
        "  p0[i]=0.25\n",
        "for i in range(d-int(d/2),d):\n",
        "  p0[i]=0.8\n",
        "p0[d-1]=1\n",
        "for i in range(d-int(d/2)):\n",
        "  p1[i]=0.65\n",
        "for i in range(d-int(d/2),d):\n",
        "  p1[i]=0.45\n",
        "p1[d-1]=1\n",
        "\n",
        "X,Y = stretched_cube_model(d,sigma,p0,p1,s0,s1,r)"
      ]
    },
    {
      "cell_type": "markdown",
      "metadata": {
        "id": "M0FHn03IWA97"
      },
      "source": [
        "Shuffle the data:"
      ]
    },
    {
      "cell_type": "code",
      "execution_count": 7,
      "metadata": {
        "id": "7Elb7ZR7i8An"
      },
      "outputs": [],
      "source": [
        "from sklearn.utils import shuffle\n",
        "X,Y = shuffle(X,Y)\n",
        "X_train, Y_train = X, Y"
      ]
    },
    {
      "cell_type": "code",
      "execution_count": 8,
      "metadata": {
        "id": "L7jmFTi3i_Xc"
      },
      "outputs": [],
      "source": [
        "#generate test data:\n",
        "X_test,Y_test = stretched_cube_model(d,sigma,p0,p1,1000,500,r)\n",
        "X_test, Y_test = shuffle(X_test, Y_test)"
      ]
    },
    {
      "cell_type": "markdown",
      "metadata": {
        "id": "qwrI35SNWRP1"
      },
      "source": [
        "Classify using logistic regression:"
      ]
    },
    {
      "cell_type": "code",
      "execution_count": 9,
      "metadata": {
        "colab": {
          "base_uri": "https://localhost:8080/"
        },
        "id": "2Zn-VjP_jCtp",
        "outputId": "f85cd589-4bd7-4546-b688-323c309ffa70"
      },
      "outputs": [
        {
          "output_type": "stream",
          "name": "stdout",
          "text": [
            "0.2666666666666667\n",
            "0.24\n",
            "-0.026666666666666727\n"
          ]
        }
      ],
      "source": [
        "#Logistic regression result:\n",
        "clf = LogisticRegression(random_state=0).fit(X_train, Y_train) #fitting logistic regression to the points\n",
        "train_error = 1-clf.score(X_train, Y_train) #train error of regression\n",
        "test_error=np.sum(np.abs(Y_test-clf.predict(X_test)))/Y_test.size\n",
        "print(train_error)\n",
        "print(test_error)#test error of logistic regression\n",
        "print(-train_error+test_error)"
      ]
    },
    {
      "cell_type": "markdown",
      "metadata": {
        "id": "gAJBhDVnZerb"
      },
      "source": [
        "Classify using svm:"
      ]
    },
    {
      "cell_type": "code",
      "execution_count": 10,
      "metadata": {
        "colab": {
          "base_uri": "https://localhost:8080/"
        },
        "id": "k7o--Dq8jL95",
        "outputId": "0b0a2499-cc5c-441d-879f-84bd20b5e059"
      },
      "outputs": [
        {
          "output_type": "stream",
          "name": "stdout",
          "text": [
            "0.13333333333333333\n",
            "0.25533333333333336\n",
            "0.12200000000000003\n"
          ]
        }
      ],
      "source": [
        "#svm\n",
        "from sklearn import svm\n",
        "clf = svm.SVC()\n",
        "clf.fit(X_train, Y_train)\n",
        "train_error=np.sum(np.abs(clf.predict(X_train)-Y_train))/Y_train.size\n",
        "test_error=np.sum(np.abs(clf.predict(X_test)-Y_test))/Y_test.size\n",
        "print(train_error)\n",
        "print(test_error)\n",
        "print(-train_error+test_error)"
      ]
    },
    {
      "cell_type": "markdown",
      "metadata": {
        "id": "58bZjwgyWh-J"
      },
      "source": [
        "Classify using n-TARP:"
      ]
    },
    {
      "cell_type": "code",
      "execution_count": 11,
      "metadata": {
        "colab": {
          "base_uri": "https://localhost:8080/"
        },
        "id": "_WnSMPafjTKB",
        "outputId": "86f3ac0f-80f5-46e2-e88a-5b0f65dce38a"
      },
      "outputs": [
        {
          "output_type": "stream",
          "name": "stdout",
          "text": [
            "0.06666666666666665\n",
            "0.19066666666666668\n",
            "0.12400000000000003\n"
          ]
        }
      ],
      "source": [
        "min_error,rpvec,coef,intercept=nTARP_class_fit(X_train, Y_train, 10000)\n",
        "train_error=min_error\n",
        "print(min_error)\n",
        "Y_predict = nTARP_class_predict(X_test, rpvec, coef,intercept)\n",
        "test_error = np.sum(np.abs(Y_test-Y_predict))/Y_test.size\n",
        "print(test_error)\n",
        "print(test_error-train_error)"
      ]
    },
    {
      "cell_type": "markdown",
      "metadata": {
        "id": "-p1l63VOYgl8"
      },
      "source": [
        "What happens to the errors when Bernoulli parameters of different classes get closer? Vary linearly  between A=(0.25,...,0.8,1) and F = (0.8,...,0.25,1)."
      ]
    },
    {
      "cell_type": "code",
      "execution_count": 7,
      "metadata": {
        "id": "vpN-IHL9Ylu3"
      },
      "outputs": [],
      "source": [
        "#starting parameters\n",
        "d = 65\n",
        "#sigma = 0.05\n",
        "sigma=0\n",
        "s0 = 100\n",
        "s1 = 100\n",
        "r = float(1) # need to add float here, otherwise can not take square root\n",
        "p0 = np.zeros(d)\n",
        "for i in range(d-int(d/2)):\n",
        "  p0[i]=0.25\n",
        "for i in range(d-int(d/2),d):\n",
        "  p0[i]=0.8\n",
        "p0[d-1]=1"
      ]
    },
    {
      "cell_type": "markdown",
      "metadata": {
        "id": "QJtVReeLYG2s"
      },
      "source": [
        "Compare linear regression, SVM and n-TARP on the stretched cube data:"
      ]
    },
    {
      "cell_type": "code",
      "execution_count": null,
      "metadata": {
        "collapsed": true,
        "id": "vCuJFYqdYxry"
      },
      "outputs": [],
      "source": [
        "#how does linear SVM behave compared to other models?\n",
        "detail = 20\n",
        "repeat=5\n",
        "test_number=10\n",
        "\n",
        "#space fot the results\n",
        "gap_logit=np.zeros(detail)\n",
        "gap_logit_deviation = np.zeros(detail)\n",
        "train_logit = np.zeros(detail)\n",
        "test_logit = np.zeros(detail)\n",
        "gap_SVM=np.zeros(detail)\n",
        "gap_SVM_deviation = np.zeros(detail)\n",
        "train_SVM = np.zeros(detail)\n",
        "test_SVM = np.zeros(detail)\n",
        "gap_nTARP=np.zeros(detail)\n",
        "gap_nTARP_deviation = np.zeros(detail)\n",
        "train_nTARP=np.zeros(detail)\n",
        "test_nTARP=np.zeros(detail)\n",
        "gap_linear_SVM=np.zeros(detail)\n",
        "train_linear_SVM=np.zeros(detail)\n",
        "test_linear_SVM=np.zeros(detail)\n",
        "gap_linear_SVM_deviation = np.zeros(detail)\n",
        "\n",
        "\n",
        "#space for generated data:\n",
        "x_train = np.zeros((s0+s1,d,detail,repeat))\n",
        "y_train = np.zeros((s0+s1,detail,repeat))\n",
        "x_test = np.zeros((2*test_number,d,detail,repeat))\n",
        "y_test = np.zeros((2*test_number,detail,repeat))\n",
        "\n",
        "for k in range(detail):\n",
        "  p1 =np.zeros(d)\n",
        "  for i in range(d-int(d/2)):\n",
        "    p1[i]=p0[i]+k*(0.8-p0[i])/detail\n",
        "  for i in range(d-int(d/2),d):\n",
        "    p1[i]=p0[i]-k*(p0[i]-0.25)/detail\n",
        "  p1[d-1]=1\n",
        "  print(k)\n",
        "  gap_logit_tries=np.zeros(repeat)\n",
        "  gap_SVM_tries=np.zeros(repeat)\n",
        "  gap_nTARP_tries=np.zeros(repeat)\n",
        "  gap_linear_SVM_tries = np.zeros(repeat)\n",
        "  for j in range(repeat):\n",
        "    # generate training data:\n",
        "    X_train,Y_train = stretched_cube_model(d,sigma,p0,p1,s0,s1,r)\n",
        "    X_train, Y_train = shuffle(X_train,Y_train)\n",
        "    x_train[:,:,k,j],y_train[:,k,j] = X_train, Y_train\n",
        "    scaler = preprocessing.StandardScaler().fit(X_train)\n",
        "    X_train_scaled = scaler.transform(X_train)\n",
        "    #generate tes data\n",
        "    X_test,Y_test = stretched_cube_model(d,sigma,p0,p1,test_number,test_number,r)\n",
        "    X_test, Y_test = shuffle(X_test, Y_test)\n",
        "    x_test[:,:,k,j],y_test[:,k,j] = X_test,Y_test\n",
        "    X_test_scaled = scaler.transform(X_test)\n",
        "  #logit:\n",
        "    clf = LogisticRegression().fit(X_train_scaled, Y_train) #fitting logistic regression to the points, rescaled\n",
        "    train_error = 1-clf.score(X_train_scaled, Y_train) #train error of regression\n",
        "    test_error = np.sum(np.abs(Y_test-clf.predict(X_test_scaled)))/Y_test.size\n",
        "    train_logit[k]=train_logit[k]+train_error\n",
        "    test_logit[k]=test_logit[k]+test_error\n",
        "    gap_logit_tries[j]=np.abs(test_error-train_error)\n",
        "  #SVM:\n",
        "    clf2 = svm.SVC()\n",
        "    clf2.fit(X_train_scaled, Y_train)\n",
        "    train_error=np.sum(np.abs(clf2.predict(X_train_scaled)-Y_train))/Y_train.size\n",
        "    test_error=np.sum(np.abs(clf2.predict(X_test_scaled)-Y_test))/Y_test.size\n",
        "    train_SVM[k]=train_SVM[k]+train_error\n",
        "    test_SVM[k]=test_SVM[k]+test_error\n",
        "    gap_SVM_tries[j]=np.abs(test_error-train_error)\n",
        "  #linear SVM:\n",
        "    clf3 = LinearSVC()\n",
        "    clf3.fit(X_train_scaled,Y_train)\n",
        "    train_error=np.sum(np.abs(clf3.predict(X_train_scaled)-Y_train))/Y_train.size\n",
        "    test_error=np.sum(np.abs(clf3.predict(X_test_scaled)-Y_test))/Y_test.size\n",
        "    train_linear_SVM[k]=train_linear_SVM[k]+train_error\n",
        "    test_linear_SVM[k]=test_linear_SVM[k]+test_error\n",
        "    gap_linear_SVM_tries[j]=np.abs(test_error-train_error)\n",
        "  #n_TARP:\n",
        "    min_error,rpvec,coef,intercept=nTARP_class_fit(X_train, Y_train, 10000) #not scaled\n",
        "    train_error=min_error\n",
        "    Y_predict = nTARP_class_predict(X_test, rpvec, coef,intercept)\n",
        "    test_error = np.sum(np.abs(Y_test-Y_predict))/Y_test.size\n",
        "    train_nTARP[k]=train_nTARP[k]+train_error\n",
        "    test_nTARP[k]=test_nTARP[k]+test_error\n",
        "    gap_nTARP_tries[j]=np.abs(test_error-train_error)\n",
        "  gap_logit[k] = np.mean(gap_logit_tries)\n",
        "  gap_logit_deviation[k] = np.std(gap_logit_tries)\n",
        "  gap_SVM[k] = np.mean(gap_SVM_tries)\n",
        "  gap_SVM_deviation[k] = np.std(gap_SVM_tries)\n",
        "  gap_nTARP[k] = np.mean(gap_nTARP_tries)\n",
        "  gap_nTARP_deviation[k] = np.std(gap_nTARP_tries)\n",
        "  gap_linear_SVM[k] = np.mean(gap_linear_SVM_tries)\n",
        "  gap_linear_SVM_deviation[k]=np.std(gap_linear_SVM_tries)\n",
        "\n",
        "train_logit = train_logit/repeat\n",
        "test_logit = test_logit/repeat\n",
        "train_SVM = train_SVM/repeat\n",
        "test_SVM = test_SVM/repeat\n",
        "train_linear_SVM = train_linear_SVM/repeat\n",
        "test_linear_SVM = test_linear_SVM/repeat\n",
        "train_nTARP = train_nTARP/repeat\n",
        "test_nTARP = test_nTARP/repeat"
      ]
    },
    {
      "cell_type": "code",
      "source": [
        "print(x_train.shape)\n",
        "np.savetxt('training_data_zerosigma_200_65_20_5',x_train.flatten())"
      ],
      "metadata": {
        "colab": {
          "base_uri": "https://localhost:8080/"
        },
        "id": "-AoxcCLH4JFa",
        "outputId": "2581c668-3e83-4033-fd14-7065937fb205"
      },
      "execution_count": 9,
      "outputs": [
        {
          "output_type": "stream",
          "name": "stdout",
          "text": [
            "(200, 65, 20, 5)\n"
          ]
        }
      ]
    },
    {
      "cell_type": "code",
      "source": [
        "print(y_train.shape)\n",
        "np.savetxt('training_labels_zerosigma_200_20_5',y_train.flatten())"
      ],
      "metadata": {
        "colab": {
          "base_uri": "https://localhost:8080/"
        },
        "id": "IOkQuot55f8M",
        "outputId": "544ebfae-10b4-483e-9bec-2fef356ae0e1"
      },
      "execution_count": 11,
      "outputs": [
        {
          "output_type": "stream",
          "name": "stdout",
          "text": [
            "(200, 20, 5)\n"
          ]
        }
      ]
    },
    {
      "cell_type": "code",
      "source": [
        "print(x_test.shape)\n",
        "np.savetxt('test_data_zerosigma_20_65_20_5',x_test.flatten())"
      ],
      "metadata": {
        "colab": {
          "base_uri": "https://localhost:8080/"
        },
        "id": "TZpyLUuQ6TlS",
        "outputId": "4ec38f93-beca-4946-d4d6-b0e692f40880"
      },
      "execution_count": 12,
      "outputs": [
        {
          "output_type": "stream",
          "name": "stdout",
          "text": [
            "(20, 65, 20, 5)\n"
          ]
        }
      ]
    },
    {
      "cell_type": "code",
      "source": [
        "print(y_test.shape)\n",
        "np.savetxt('test_labels_zerosigma_20_20_5',y_test.flatten())"
      ],
      "metadata": {
        "colab": {
          "base_uri": "https://localhost:8080/"
        },
        "id": "wiWY0uPG6dYY",
        "outputId": "8a94931a-96e4-4e52-ce0d-2240d1ab192b"
      },
      "execution_count": 13,
      "outputs": [
        {
          "output_type": "stream",
          "name": "stdout",
          "text": [
            "(20, 20, 5)\n"
          ]
        }
      ]
    },
    {
      "cell_type": "code",
      "source": [
        "#saving the result of the experiment for future use eg plotting\n",
        "np.savetxt(\"gap_logit_005\", gap_logit, delimiter=\",\")\n",
        "np.savetxt(\"gap_logit_deviation_005\", gap_logit_deviation, delimiter=\",\")\n",
        "np.savetxt(\"gap_nTARP_005\", gap_nTARP, delimiter=\",\")\n",
        "np.savetxt(\"gap_nTARP_deviation_005\", gap_nTARP_deviation, delimiter=\",\")\n",
        "np.savetxt(\"gap_linear_SVM_005\", gap_linear_SVM, delimiter=\",\")\n",
        "np.savetxt(\"gap_linear_SVM_deviation_005\", gap_linear_SVM_deviation, delimiter=\",\")\n",
        "np.savetxt(\"gap_SVM_005\", gap_SVM, delimiter=\",\")\n",
        "np.savetxt(\"gap_SVM_deviation_005\", gap_SVM_deviation, delimiter=\",\")\n",
        "\n",
        "np.savetxt(\"train_logit_005\", train_logit, delimiter=\",\")\n",
        "np.savetxt(\"test_logit_005\", test_logit, delimiter=\",\")\n",
        "np.savetxt(\"train_SVM_005\", train_SVM, delimiter=\",\")\n",
        "np.savetxt(\"test_SVM_005\", test_SVM, delimiter=\",\")\n",
        "np.savetxt(\"train_nTARP_005\", train_nTARP, delimiter=\",\")\n",
        "np.savetxt(\"test_nTARP_005\", test_nTARP, delimiter=\",\")\n",
        "np.savetxt(\"train_linear_SVM_005\", train_linear_SVM, delimiter=\",\")\n",
        "np.savetxt(\"test_linear_SVM_005\", test_linear_SVM, delimiter=\",\")"
      ],
      "metadata": {
        "id": "mFdpI1KCd15j"
      },
      "execution_count": 22,
      "outputs": []
    },
    {
      "cell_type": "markdown",
      "metadata": {
        "id": "Co0IDb60YQ5N"
      },
      "source": [
        "Plot the results of training and test errors:"
      ]
    },
    {
      "cell_type": "code",
      "execution_count": 23,
      "metadata": {
        "colab": {
          "base_uri": "https://localhost:8080/",
          "height": 447
        },
        "id": "HvUoCNWoj7Ip",
        "outputId": "85fe5e4b-d08a-48b0-a89d-2909d35782e1"
      },
      "outputs": [
        {
          "output_type": "execute_result",
          "data": {
            "text/plain": [
              "[<matplotlib.lines.Line2D at 0x7fbd50449660>]"
            ]
          },
          "metadata": {},
          "execution_count": 23
        },
        {
          "output_type": "display_data",
          "data": {
            "text/plain": [
              "<Figure size 640x480 with 1 Axes>"
            ],
            "image/png": "[encoded data removed]"
          },
          "metadata": {}
        }
      ],
      "source": [
        "plt.plot(train_logit, c='blue')\n",
        "plt.plot(test_logit, alpha=0.3, c='blue')\n",
        "plt.plot(train_SVM, c='orange')\n",
        "plt.plot(test_SVM, alpha=0.3, c='orange')\n",
        "plt.plot(train_nTARP, c='green')\n",
        "plt.plot(test_nTARP, alpha=0.3, c='green')\n",
        "plt.plot(train_linear_SVM, c='red')\n",
        "plt.plot(test_linear_SVM, alpha=0.3, c='red')"
      ]
    },
    {
      "cell_type": "markdown",
      "metadata": {
        "id": "IsrLJiqAYWsT"
      },
      "source": [
        "Plot the results for the generalization gap (sigma=0.05):"
      ]
    },
    {
      "cell_type": "code",
      "execution_count": 14,
      "metadata": {
        "colab": {
          "base_uri": "https://localhost:8080/",
          "height": 447
        },
        "id": "ZIyR8ccXbHj4",
        "outputId": "8d16a18e-2a3f-4550-95d4-89c404e3e3eb"
      },
      "outputs": [
        {
          "output_type": "execute_result",
          "data": {
            "text/plain": [
              "<ErrorbarContainer object of 3 artists>"
            ]
          },
          "metadata": {},
          "execution_count": 14
        },
        {
          "output_type": "display_data",
          "data": {
            "text/plain": [
              "<Figure size 640x480 with 1 Axes>"
            ],
            "image/png": "[encoded data removed]"
          },
          "metadata": {}
        }
      ],
      "source": [
        "plt.errorbar([0,1,2,3,4,5,6,7,8,9,10,11,12,13,14,15,16,17,18,19], gap_logit, gap_logit_deviation, linestyle='solid', marker='^')\n",
        "plt.errorbar([0,1,2,3,4,5,6,7,8,9,10,11,12,13,14,15,16,17,18,19], gap_SVM, gap_SVM_deviation, linestyle='solid', marker='o')\n",
        "plt.errorbar([0,1,2,3,4,5,6,7,8,9,10,11,12,13,14,15,16,17,18,19], gap_nTARP, gap_nTARP_deviation, linestyle='solid', marker='p')\n",
        "plt.errorbar([0,1,2,3,4,5,6,7,8,9,10,11,12,13,14,15,16,17,18,19], gap_linear_SVM, gap_linear_SVM_deviation, linestyle='solid', marker='P')"
      ]
    }
  ],
  "metadata": {
    "colab": {
      "provenance": [],
      "authorship_tag": "ABX9TyPT0Z0E+TACflKSTD7MNwDq"
    },
    "kernelspec": {
      "display_name": "Python 3",
      "name": "python3"
    },
    "language_info": {
      "name": "python"
    }
  },
  "nbformat": 4,
  "nbformat_minor": 0
}